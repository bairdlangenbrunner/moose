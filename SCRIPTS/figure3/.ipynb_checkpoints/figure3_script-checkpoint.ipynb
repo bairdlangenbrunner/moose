{
 "cells": [
  {
   "cell_type": "code",
   "execution_count": 1,
   "metadata": {},
   "outputs": [],
   "source": [
    "import numpy\n",
    "from netCDF4 import Dataset\n",
    "import matplotlib.pyplot as mp\n",
    "import matplotlib.colors as mc\n",
    "import matplotlib.cm as cm\n",
    "import mpl_toolkits.mplot3d\n",
    "import matplotlib\n",
    "import scipy.ndimage\n",
    "import datetime\n",
    "\n",
    "import itertools\n",
    "import random\n",
    "import numpy.random\n",
    "import scipy.stats\n",
    "import os\n",
    "\n",
    "mp.rcParams.update({'mathtext.default': 'regular'})\n",
    "\n",
    "from mpl_toolkits import basemap\n",
    "import mpl_toolkits.axes_grid1\n",
    "\n",
    "degree_sign = u'\\u00B0'\n",
    "% matplotlib inline"
   ]
  },
  {
   "cell_type": "code",
   "execution_count": 2,
   "metadata": {},
   "outputs": [],
   "source": [
    "model_names = numpy.array(( \\\n",
    "'ACCESS1-0', \\\n",
    "'ACCESS1-3', \\\n",
    "'bcc-csm1-1-m', \\\n",
    "'bcc-csm1-1', \\\n",
    "'BNU-ESM', \\\n",
    "'CanESM2', \\\n",
    "'CCSM4', \\\n",
    "'CESM1-BGC', \\\n",
    "'CESM1-CAM5', \\\n",
    "'CMCC-CESM', \\\n",
    "'CMCC-CM', \\\n",
    "'CMCC-CMS', \\\n",
    "'CNRM-CM5', \\\n",
    "'CSIRO-Mk3-6-0', \\\n",
    "'EC-EARTH', \\\n",
    "'FGOALS-g2', \\\n",
    "'GFDL-CM3', \\\n",
    "'GFDL-ESM2G', \\\n",
    "'GFDL-ESM2M', \\\n",
    "'GISS-E2-H', \\\n",
    "'GISS-E2-R', \\\n",
    "'HadGEM2-AO', \\\n",
    "'HadGEM2-CC', \\\n",
    "'HadGEM2-ES', \\\n",
    "'inmcm4', \\\n",
    "'IPSL-CM5A-LR', \\\n",
    "'IPSL-CM5A-MR', \\\n",
    "'IPSL-CM5B-LR', \\\n",
    "'MIROC5', \\\n",
    "'MIROC-ESM-CHEM', \\\n",
    "'MIROC-ESM', \\\n",
    "'MPI-ESM-LR', \\\n",
    "'MPI-ESM-MR', \\\n",
    "'MRI-CGCM3', \\\n",
    "'NorESM1-ME', \\\n",
    "'NorESM1-M' ))\n",
    "nmods = len(model_names)"
   ]
  },
  {
   "cell_type": "code",
   "execution_count": 3,
   "metadata": {},
   "outputs": [],
   "source": [
    "pr_lat_lo, pr_lat_hi, pr_lon_lo, pr_lon_hi = 30., 45., 232.5, 248; region = 'CA'\n",
    "ts_lat_lo, ts_lat_hi, ts_lon_lo, ts_lon_hi = -30., 10., 155., 270.; region = 'tropacific'\n",
    "ua_lat_lo, ua_lat_hi, ua_lon_lo, ua_lon_hi = 20., 50., 170., 250.; region = 'midlatpacific'\n",
    "tel_lat_lo, tel_lat_hi, tel_lon_lo, tel_lon_hi = 25., 60., 220., 255.; region = 'CA'\n",
    "\n",
    "season='djf'; SEASON='DJF'"
   ]
  },
  {
   "cell_type": "code",
   "execution_count": 5,
   "metadata": {},
   "outputs": [],
   "source": [
    "# OPEN TS DATASET\n",
    "ncfile = Dataset('../../DATA/cmip5_data/ts/djf/NorESM1-M_ts_1980-10_climatology_djf.nc', 'r', format='NETCDF4')\n",
    "\n",
    "ts_data_orig = ncfile.variables['ts'][:]\n",
    "ts_lat = ncfile.variables['lat'][:]\n",
    "ts_lon = ncfile.variables['lon'][:]\n",
    "\n",
    "# pull out lat/lon indices\n",
    "ts_lat_inds = numpy.where((ts_lat>=ts_lat_lo) & (ts_lat<=ts_lat_hi))[0]\n",
    "ts_lon_inds = numpy.where((ts_lon>=ts_lon_lo) & (ts_lon<=ts_lon_hi))[0]\n",
    "ts_regional_lat_vals = ts_lat[ts_lat_inds[0]:(ts_lat_inds[-1]+1)]\n",
    "ts_regional_lon_vals = ts_lon[ts_lon_inds[0]:(ts_lon_inds[-1]+1)]    \n",
    "\n",
    "ts_data = ts_data_orig[ts_lat_inds[0]:(ts_lat_inds[-1]+1), ts_lon_inds[0]:(ts_lon_inds[-1]+1)]\n",
    "ts_regional_nlat, ts_regional_nlon = ts_data.shape\n",
    "global_nlat, global_nlon = ts_data_orig.shape[0:2]\n",
    "global_lat_vals = ts_lat[:]\n",
    "global_lon_vals = ts_lon[:]"
   ]
  },
  {
   "cell_type": "markdown",
   "metadata": {},
   "source": [
    "# Open data"
   ]
  },
  {
   "cell_type": "code",
   "execution_count": 7,
   "metadata": {},
   "outputs": [],
   "source": [
    "ncal_latlon = numpy.load('../../DATA/ncal_latlon_array.npy')\n",
    "ccal_latlon = numpy.load('../../DATA/ccal_latlon_array.npy')\n",
    "scal_latlon = numpy.load('../../DATA/scal_latlon_array.npy')\n",
    "coastal_cal_latlon = numpy.load('../../DATA/coastal_cal_latlon_array.npy')"
   ]
  },
  {
   "cell_type": "code",
   "execution_count": 8,
   "metadata": {},
   "outputs": [],
   "source": [
    "#DATESTRING = '2017-07-24_00:19:58'\n",
    "DATESTRING = '2018-05-19_12:05:57'\n",
    "\n",
    "save_dir = '../../DATA/subensemble_data/'\n",
    "save_filename = 'pareto_front_results_'+DATESTRING+'_k1to5.npy'\n",
    "\n",
    "save_dict = numpy.load(save_dir+save_filename)\n",
    "\n",
    "pareto_set_collect_2d_list = save_dict[()]['pareto_set_collect_2d_list']\n",
    "pareto_set_collect_3d_list = save_dict[()]['pareto_set_collect_3d_list']\n",
    "\n",
    "bias_values_subensembles_x = save_dict[()]['bias_values_subensembles_x']\n",
    "bias_values_subensembles_y = save_dict[()]['bias_values_subensembles_y']\n",
    "bias_values_subensembles_z = save_dict[()]['bias_values_subensembles_z']\n",
    "\n",
    "bias_values_subensembles_x_LENS = save_dict[()]['bias_values_subensembles_x_LENS']\n",
    "bias_values_subensembles_y_LENS = save_dict[()]['bias_values_subensembles_y_LENS']\n",
    "bias_values_subensembles_z_LENS = save_dict[()]['bias_values_subensembles_z_LENS']\n",
    "\n",
    "col1_orig = numpy.copy(bias_values_subensembles_x)\n",
    "col2_orig = numpy.copy(bias_values_subensembles_y)\n",
    "col3_orig = numpy.copy(bias_values_subensembles_z)\n",
    "\n",
    "#\n",
    "k = save_dict[()]['k']\n",
    "N_pareto_loops = save_dict[()]['N_pareto_loops']\n",
    "\n",
    "N_ens = save_dict[()]['N_ens']\n",
    "N_ens_LENS = save_dict[()]['N_ens_LENS']\n",
    "\n",
    "model_combinations = save_dict[()]['model_combinations']\n",
    "model_combinations_LENS = save_dict[()]['model_combinations_LENS']\n",
    "\n",
    "dict_pr = save_dict[()]['dict_x']\n",
    "dict_ts = save_dict[()]['dict_y']\n",
    "dict_ua = save_dict[()]['dict_z']\n",
    "\n",
    "pareto_set_sizes_3d = save_dict[()]['pareto_set_sizes_3d']"
   ]
  },
  {
   "cell_type": "code",
   "execution_count": 7,
   "metadata": {},
   "outputs": [
    {
     "name": "stdout",
     "output_type": "stream",
     "text": [
      "443703 760098\n"
     ]
    }
   ],
   "source": [
    "print(N_ens, N_ens_LENS)"
   ]
  },
  {
   "cell_type": "markdown",
   "metadata": {},
   "source": [
    "## Loop through the Pareto-optimal solutions in the 3D case\n",
    "\n",
    "* From here, the 3D Pareto front has been calculated using the 3 objective functions\n",
    "* Now loop through all the model subensembles and find which models correspond to these Pareto-optimal solutions"
   ]
  },
  {
   "cell_type": "code",
   "execution_count": 10,
   "metadata": {},
   "outputs": [],
   "source": [
    "# now get all the subensembles in pareto_set_collect, take their mean, and look at end-of-century precip change\n",
    "# GET INFO ON OPTIMAL PARETO SETS, ETC.\n",
    "\n",
    "pareto_set_collect = pareto_set_collect_3d_list[0]\n",
    "\n",
    "# SAVE THE MODELS THAT MAKE UP THE PARETO FRONT\n",
    "n_optima = pareto_set_collect.shape[0]\n",
    "optimal_subensembles = []\n",
    "optimal_subensembles_indices = []\n",
    "optimal_subensembles_sizes = []\n",
    "\n",
    "optimal_y_subensembles = numpy.empty((N_pareto_loops, k), dtype=object)\n",
    "optimal_x_subensembles = numpy.empty((N_pareto_loops, k), dtype=object)\n",
    "optimal_z_subensembles = numpy.empty((N_pareto_loops, k), dtype=object)\n",
    "\n",
    "optimal_y_pareto_combos = numpy.zeros(N_pareto_loops, dtype=numpy.int)\n",
    "optimal_x_pareto_combos = numpy.zeros(N_pareto_loops, dtype=numpy.int)\n",
    "optimal_z_pareto_combos = numpy.zeros(N_pareto_loops, dtype=numpy.int)\n",
    "\n",
    "# collect all optimal subensembles\n",
    "for i in range(n_optima):\n",
    "    pareto_combo = numpy.where((col1_orig==pareto_set_collect[i,0]) & (col2_orig==pareto_set_collect[i,1]) & (col3_orig==pareto_set_collect[i,2]))[0][0]\n",
    "    optimal_subensembles.append(model_names[model_combinations[pareto_combo][:]])\n",
    "    optimal_subensembles_indices.append(model_combinations[pareto_combo][:])\n",
    "    optimal_subensembles_sizes.append(optimal_subensembles_indices[-1].size)\n",
    "\n",
    "# calculate precip change over each optimal subensemble\n",
    "all_po_subensembles_hist = numpy.zeros((len(optimal_subensembles), dict_pr['nlat'], dict_pr['nlon']))\n",
    "all_po_subensembles_eoc = numpy.zeros((len(optimal_subensembles), dict_pr['nlat'], dict_pr['nlon']))\n",
    "for ens in range(n_optima):\n",
    "    ens_array = optimal_subensembles[ens]\n",
    "    individual_subensembles_hist = numpy.zeros((ens_array.size, dict_pr['nlat'], dict_pr['nlon']))\n",
    "    individual_subensembles_eoc = numpy.zeros((ens_array.size, dict_pr['nlat'], dict_pr['nlon']))\n",
    "    for member in range(ens_array.size):\n",
    "        individual_subensembles_hist[member,:,:] = dict_pr['fields_hist_mods'][numpy.where(optimal_subensembles[ens][member]==model_names)[0][0],:,:]\n",
    "        individual_subensembles_eoc[member,:,:] = dict_pr['fields_eoc_mods'][numpy.where(optimal_subensembles[ens][member]==model_names)[0][0],:,:]\n",
    "    all_po_subensembles_hist[ens,:,:] = numpy.mean(individual_subensembles_hist, axis=0)\n",
    "    all_po_subensembles_eoc[ens,:,:] = numpy.mean(individual_subensembles_eoc, axis=0)"
   ]
  },
  {
   "cell_type": "markdown",
   "metadata": {},
   "source": [
    "# Now stored as optimal_subensembles_indices and optimal_subensembles"
   ]
  },
  {
   "cell_type": "code",
   "execution_count": 11,
   "metadata": {},
   "outputs": [
    {
     "name": "stdout",
     "output_type": "stream",
     "text": [
      "[[236.25  38.75]\n",
      " [236.25  41.25]\n",
      " [238.75  41.25]]\n",
      "[31.25 33.75 36.25 38.75 41.25 43.75]\n"
     ]
    }
   ],
   "source": [
    "#print(optimal_subensembles_indices)\n",
    "# find ccal indices on this graph\n",
    "print(ncal_latlon)\n",
    "print(dict_pr['lats'])"
   ]
  },
  {
   "cell_type": "markdown",
   "metadata": {},
   "source": [
    "## Then loop through the optimal subensembles and calculate the means for the N., Central, and S. California lat/lon indices"
   ]
  },
  {
   "cell_type": "code",
   "execution_count": 12,
   "metadata": {},
   "outputs": [
    {
     "name": "stdout",
     "output_type": "stream",
     "text": [
      "[[1 4]\n",
      " [1 3]\n",
      " [2 2]\n",
      " [3 1]\n",
      " [4 0]]\n"
     ]
    }
   ],
   "source": [
    "# loop through the optimal subensembles\n",
    "# pull out ccal, ncal, scal lat/lon indices, take average\n",
    "# look at them\n",
    "\n",
    "# get latlon combo\n",
    "latlon_indices_ncal = numpy.zeros((ncal_latlon.shape),dtype=int)\n",
    "latlon_indices_ccal = numpy.zeros((ccal_latlon.shape),dtype=int)\n",
    "latlon_indices_scal = numpy.zeros((scal_latlon.shape),dtype=int)\n",
    "latlon_indices_coastal_cal = numpy.zeros((coastal_cal_latlon.shape), dtype=int)\n",
    "\n",
    "for i in range(ncal_latlon.shape[0]):\n",
    "    latlon_indices_ncal[i,0] = numpy.where(ncal_latlon[i,0]==dict_pr['lons'])[0][0]\n",
    "    latlon_indices_ncal[i,1] = numpy.where(ncal_latlon[i,1]==dict_pr['lats'])[0][0]\n",
    "\n",
    "    latlon_indices_ccal[i,0] = numpy.where(ccal_latlon[i,0]==dict_pr['lons'])[0][0]\n",
    "    latlon_indices_ccal[i,1] = numpy.where(ccal_latlon[i,1]==dict_pr['lats'])[0][0]\n",
    "\n",
    "    latlon_indices_scal[i,0] = numpy.where(scal_latlon[i,0]==dict_pr['lons'])[0][0]\n",
    "    latlon_indices_scal[i,1] = numpy.where(scal_latlon[i,1]==dict_pr['lats'])[0][0]\n",
    "\n",
    "for i in range(coastal_cal_latlon.shape[0]):\n",
    "    latlon_indices_coastal_cal[i,0] = numpy.where(coastal_cal_latlon[i,0]==dict_pr['lons'])[0][0]\n",
    "    latlon_indices_coastal_cal[i,1] = numpy.where(coastal_cal_latlon[i,1]==dict_pr['lats'])[0][0]\n",
    "\n",
    "all_po_subensembles_hist[0,latlon_indices_ncal[:,0],latlon_indices_ncal[:,1]]\n",
    "print(latlon_indices_coastal_cal)"
   ]
  },
  {
   "cell_type": "markdown",
   "metadata": {},
   "source": [
    "# Taking Pareto-optimal subensembles"
   ]
  },
  {
   "cell_type": "code",
   "execution_count": 13,
   "metadata": {},
   "outputs": [],
   "source": [
    "all_po_subensembles_hist_ncal = all_po_subensembles_hist[:,latlon_indices_ncal[:,1],latlon_indices_ncal[:,0]].mean(axis=1)\n",
    "all_po_subensembles_hist_ccal = all_po_subensembles_hist[:,latlon_indices_ccal[:,1],latlon_indices_ccal[:,0]].mean(axis=1)\n",
    "all_po_subensembles_hist_scal = all_po_subensembles_hist[:,latlon_indices_scal[:,1],latlon_indices_scal[:,0]].mean(axis=1)\n",
    "\n",
    "all_po_subensembles_eoc_ncal = all_po_subensembles_eoc[:,latlon_indices_ncal[:,1],latlon_indices_ncal[:,0]].mean(axis=1)\n",
    "all_po_subensembles_eoc_ccal = all_po_subensembles_eoc[:,latlon_indices_ccal[:,1],latlon_indices_ccal[:,0]].mean(axis=1)\n",
    "all_po_subensembles_eoc_scal = all_po_subensembles_eoc[:,latlon_indices_scal[:,1],latlon_indices_scal[:,0]].mean(axis=1)\n",
    "\n",
    "all_po_subensembles_hist_ncal_mean = numpy.mean(all_po_subensembles_hist_ncal, axis=0)\n",
    "all_po_subensembles_hist_ccal_mean = numpy.mean(all_po_subensembles_hist_ccal, axis=0)\n",
    "all_po_subensembles_hist_scal_mean = numpy.mean(all_po_subensembles_hist_scal, axis=0)"
   ]
  },
  {
   "cell_type": "code",
   "execution_count": 14,
   "metadata": {},
   "outputs": [],
   "source": [
    "ALL_subensembles_hist_pr = numpy.zeros((N_ens, dict_pr['nlat'], dict_pr['nlon']))\n",
    "ALL_subensembles_eoc_pr = numpy.zeros((N_ens, dict_pr['nlat'], dict_pr['nlon']))\n",
    "for i in range(N_ens):\n",
    "    ALL_subensembles_hist_pr[i,:,:] = numpy.mean(dict_pr['fields_hist_mods'][model_combinations[i],:,:], axis=0)\n",
    "    ALL_subensembles_eoc_pr[i,:,:] = numpy.mean(dict_pr['fields_eoc_mods'][model_combinations[i],:,:], axis=0)\n",
    "\n",
    "ALL_subensembles_hist_pr_ncal = ALL_subensembles_hist_pr[:,latlon_indices_ncal[:,1],latlon_indices_ncal[:,0]].mean(axis=1)\n",
    "ALL_subensembles_hist_pr_ccal = ALL_subensembles_hist_pr[:,latlon_indices_ccal[:,1],latlon_indices_ccal[:,0]].mean(axis=1)\n",
    "ALL_subensembles_hist_pr_scal = ALL_subensembles_hist_pr[:,latlon_indices_scal[:,1],latlon_indices_scal[:,0]].mean(axis=1)\n",
    "\n",
    "ALL_subensembles_eoc_pr_ncal = ALL_subensembles_eoc_pr[:,latlon_indices_ncal[:,1],latlon_indices_ncal[:,0]].mean(axis=1)\n",
    "ALL_subensembles_eoc_pr_ccal = ALL_subensembles_eoc_pr[:,latlon_indices_ccal[:,1],latlon_indices_ccal[:,0]].mean(axis=1)\n",
    "ALL_subensembles_eoc_pr_scal = ALL_subensembles_eoc_pr[:,latlon_indices_scal[:,1],latlon_indices_scal[:,0]].mean(axis=1)"
   ]
  },
  {
   "cell_type": "markdown",
   "metadata": {},
   "source": [
    "# Get cmip5 full data"
   ]
  },
  {
   "cell_type": "markdown",
   "metadata": {},
   "source": [
    "# Take coastal California coastal grid boxes (5 total)"
   ]
  },
  {
   "cell_type": "code",
   "execution_count": 15,
   "metadata": {},
   "outputs": [],
   "source": [
    "cmip5_hist_pr_ncal = dict_pr['fields_hist_mods'][:,latlon_indices_ncal[:,1],latlon_indices_ncal[:,0]].mean(axis=1)\n",
    "cmip5_hist_pr_ccal = dict_pr['fields_hist_mods'][:,latlon_indices_ccal[:,1],latlon_indices_ccal[:,0]].mean(axis=1)\n",
    "cmip5_hist_pr_scal = dict_pr['fields_hist_mods'][:,latlon_indices_scal[:,1],latlon_indices_scal[:,0]].mean(axis=1)\n",
    "\n",
    "cmip5_eoc_pr_ncal = dict_pr['fields_eoc_mods'][:,latlon_indices_ncal[:,1],latlon_indices_ncal[:,0]].mean(axis=1)\n",
    "cmip5_eoc_pr_ccal = dict_pr['fields_eoc_mods'][:,latlon_indices_ccal[:,1],latlon_indices_ccal[:,0]].mean(axis=1)\n",
    "cmip5_eoc_pr_scal = dict_pr['fields_eoc_mods'][:,latlon_indices_scal[:,1],latlon_indices_scal[:,0]].mean(axis=1)"
   ]
  },
  {
   "cell_type": "code",
   "execution_count": 16,
   "metadata": {},
   "outputs": [],
   "source": [
    "cmip5_hist_pr_coastal_cal = dict_pr['fields_hist_mods'][:,latlon_indices_coastal_cal[:,1],latlon_indices_coastal_cal[:,0]]\n",
    "cmip5_eoc_pr_coastal_cal = dict_pr['fields_eoc_mods'][:,latlon_indices_coastal_cal[:,1],latlon_indices_coastal_cal[:,0]]"
   ]
  },
  {
   "cell_type": "markdown",
   "metadata": {},
   "source": [
    "# Calculate the California index information"
   ]
  },
  {
   "cell_type": "code",
   "execution_count": 17,
   "metadata": {},
   "outputs": [],
   "source": [
    "subensembles_delta_pr_ncal = numpy.zeros((N_ens)) # new\n",
    "subensembles_delta_pr_ccal = numpy.zeros((N_ens)) # new\n",
    "subensembles_delta_pr_scal = numpy.zeros((N_ens)) # new\n",
    "\n",
    "for i in range(N_ens):\n",
    "    # new\n",
    "    hist = ALL_subensembles_hist_pr_ncal[i]\n",
    "    eoc = ALL_subensembles_eoc_pr_ncal[i]\n",
    "    subensembles_delta_pr_ncal[i] = eoc-hist\n",
    "    hist = ALL_subensembles_hist_pr_ccal[i]\n",
    "    eoc = ALL_subensembles_eoc_pr_ccal[i]\n",
    "    subensembles_delta_pr_ccal[i] = eoc-hist\n",
    "    hist = ALL_subensembles_hist_pr_scal[i]\n",
    "    eoc = ALL_subensembles_eoc_pr_scal[i]\n",
    "    subensembles_delta_pr_scal[i] = eoc-hist\n",
    "\n",
    "# individual models\n",
    "model_delta_pr_ncal = numpy.zeros(nmods)\n",
    "model_delta_pr_ccal = numpy.zeros(nmods)\n",
    "model_delta_pr_scal = numpy.zeros(nmods)\n",
    "#model_delta_pr_coastal_cal = numpy.zeros((nmods,5))\n",
    "\n",
    "for i in range(nmods):\n",
    "    hist = cmip5_hist_pr_ncal[i]\n",
    "    eoc = cmip5_eoc_pr_ncal[i]\n",
    "    model_delta_pr_ncal[i] = eoc-hist\n",
    "    \n",
    "    hist = cmip5_hist_pr_ccal[i]\n",
    "    eoc = cmip5_eoc_pr_ccal[i]\n",
    "    model_delta_pr_ccal[i] = eoc-hist\n",
    "\n",
    "    hist = cmip5_hist_pr_scal[i]\n",
    "    eoc = cmip5_eoc_pr_scal[i]\n",
    "    model_delta_pr_scal[i] = eoc-hist\n",
    "\n",
    "\n",
    "#optimal subensembles\n",
    "\n",
    "optimal_subensembles_delta_pr_ncal = numpy.zeros(len(optimal_subensembles))\n",
    "optimal_subensembles_delta_pr_ccal = numpy.zeros(len(optimal_subensembles))\n",
    "optimal_subensembles_delta_pr_scal = numpy.zeros(len(optimal_subensembles))\n",
    "\n",
    "for i in range(len(optimal_subensembles)):\n",
    "    hist = all_po_subensembles_hist_ncal[i]\n",
    "    eoc = all_po_subensembles_eoc_ncal[i]\n",
    "    optimal_subensembles_delta_pr_ncal[i] = eoc-hist\n",
    "    \n",
    "    hist = all_po_subensembles_hist_ccal[i]\n",
    "    eoc = all_po_subensembles_eoc_ccal[i]\n",
    "    optimal_subensembles_delta_pr_ccal[i] = eoc-hist\n",
    "    \n",
    "    hist = all_po_subensembles_hist_scal[i]\n",
    "    eoc = all_po_subensembles_eoc_scal[i]\n",
    "    optimal_subensembles_delta_pr_scal[i] = eoc-hist"
   ]
  },
  {
   "cell_type": "markdown",
   "metadata": {},
   "source": [
    "## Choose low, high, and medium percents to for box/whisker plots in Fig. 3"
   ]
  },
  {
   "cell_type": "code",
   "execution_count": 18,
   "metadata": {},
   "outputs": [],
   "source": [
    "lo_perc = 10\n",
    "hi_perc = 90\n",
    "med_perc = 50"
   ]
  },
  {
   "cell_type": "code",
   "execution_count": 19,
   "metadata": {},
   "outputs": [],
   "source": [
    "# now arrange them in ascending or descending order and take the \n",
    "# 10th, 90th percentile of all subensembles and PO subensembles\n",
    "\n",
    "distro = subensembles_delta_pr_ccal\n",
    "lo_idx_ALL = numpy.where(distro==numpy.percentile(distro, lo_perc, interpolation='nearest'))[0][0]\n",
    "hi_idx_ALL = numpy.where(distro==numpy.percentile(distro, hi_perc, interpolation='nearest'))[0][0]\n",
    "median_idx_ALL = numpy.where(distro==numpy.percentile(distro, med_perc, interpolation='nearest'))[0][0]\n",
    "\n",
    "sort_indices = numpy.argsort(optimal_subensembles_delta_pr_ccal)\n",
    "distro = optimal_subensembles_delta_pr_ccal[sort_indices]\n",
    "lo_idx_PO = numpy.where(distro==numpy.percentile(distro, lo_perc, interpolation='nearest'))[0][0]\n",
    "hi_idx_PO = numpy.where(distro==numpy.percentile(distro, hi_perc, interpolation='nearest'))[0][0]\n",
    "median_idx_PO = numpy.where(distro==numpy.percentile(distro, med_perc, interpolation='nearest'))[0][0]"
   ]
  },
  {
   "cell_type": "code",
   "execution_count": 20,
   "metadata": {},
   "outputs": [],
   "source": [
    "lo_map_ALL = ALL_subensembles_eoc_pr[lo_idx_ALL] - ALL_subensembles_hist_pr[lo_idx_ALL]\n",
    "hi_map_ALL = ALL_subensembles_eoc_pr[hi_idx_ALL] - ALL_subensembles_hist_pr[hi_idx_ALL]\n",
    "median_map_ALL = ALL_subensembles_eoc_pr[median_idx_ALL] - ALL_subensembles_hist_pr[median_idx_ALL]\n",
    "\n",
    "lo_map_PO = all_po_subensembles_eoc[sort_indices][lo_idx_PO] - all_po_subensembles_hist[sort_indices][lo_idx_PO]\n",
    "hi_map_PO = all_po_subensembles_eoc[sort_indices][hi_idx_PO] - all_po_subensembles_hist[sort_indices][hi_idx_PO]\n",
    "median_map_PO = all_po_subensembles_eoc[sort_indices][median_idx_PO] - all_po_subensembles_hist[sort_indices][median_idx_PO]\n",
    "\n",
    "mean_map_ALL = numpy.mean(ALL_subensembles_eoc_pr - ALL_subensembles_hist_pr, axis=0)\n",
    "mean_map_PO = numpy.mean(all_po_subensembles_eoc - all_po_subensembles_hist, axis=0)"
   ]
  },
  {
   "cell_type": "code",
   "execution_count": 21,
   "metadata": {},
   "outputs": [
    {
     "name": "stdout",
     "output_type": "stream",
     "text": [
      "254929 346825\n",
      "89 801\n"
     ]
    }
   ],
   "source": [
    "print(lo_idx_ALL, hi_idx_ALL)\n",
    "print(lo_idx_PO, hi_idx_PO)"
   ]
  },
  {
   "cell_type": "code",
   "execution_count": 22,
   "metadata": {},
   "outputs": [],
   "source": [
    "class MidpointNormalize(matplotlib.colors.Normalize):\n",
    "    def __init__(self, vmin=None, vmax=None, midpoint=None, clip=False):\n",
    "        self.midpoint = midpoint\n",
    "        matplotlib.colors.Normalize.__init__(self, vmin, vmax, clip)\n",
    "\n",
    "    def __call__(self, value, clip=None):\n",
    "        # I'm ignoring masked values and all kinds of edge cases to make a\n",
    "        # simple example...\n",
    "        x, y = [self.vmin, self.midpoint, self.vmax], [0, 0.5, 1]\n",
    "        return numpy.ma.masked_array(numpy.interp(value, x, y))"
   ]
  },
  {
   "cell_type": "markdown",
   "metadata": {},
   "source": [
    "## plot Figure 3"
   ]
  },
  {
   "cell_type": "code",
   "execution_count": 23,
   "metadata": {},
   "outputs": [
    {
     "name": "stderr",
     "output_type": "stream",
     "text": [
      "/Users/baird/anaconda/lib/python3.6/site-packages/mpl_toolkits/basemap/__init__.py:1708: MatplotlibDeprecationWarning: The axesPatch function was deprecated in version 2.1. Use Axes.patch instead.\n",
      "  limb = ax.axesPatch\n",
      "/Users/baird/anaconda/lib/python3.6/site-packages/mpl_toolkits/basemap/__init__.py:1711: MatplotlibDeprecationWarning: The axesPatch function was deprecated in version 2.1. Use Axes.patch instead.\n",
      "  if limb is not ax.axesPatch:\n"
     ]
    },
    {
     "data": {
      "image/png": "[encoded data removed]",
      "text/plain": [
       "<matplotlib.figure.Figure at 0x1a484e4c50>"
      ]
     },
     "metadata": {},
     "output_type": "display_data"
    }
   ],
   "source": [
    "fontsize=12\n",
    "\n",
    "fig = mp.figure(figsize=(7,6))\n",
    "\n",
    "field_list = [lo_map_PO, median_map_PO, hi_map_PO]\n",
    "file_name = 'pareto_optimal_percentiles_for_combo_3d_front.pdf'\n",
    "figure_text = ['(b) '+str(lo_perc)+'th percentile','(c) Median','(d) '+str(hi_perc)+'th percentile']\n",
    "\n",
    "ax_top = mp.subplot2grid((5,6),(0,0),colspan=6,rowspan=2)\n",
    "ax_top.axhline(0,lw=2,c='0.5', zorder=1)\n",
    "boxplot_width=[0.5]\n",
    "\n",
    "flierprops = dict(marker='.', markeredgecolor='0.1', markerfacecolor='0.1')\n",
    "medianprops = dict(linewidth=2, color='firebrick')\n",
    "boxprops = dict(linewidth=2, color='0.1')\n",
    "whiskerprops = dict(linewidth=2, color='0.1')\n",
    "capprops = dict(linewidth=2, color='0.1')\n",
    "\n",
    "whisk_range = [lo_perc, hi_perc]\n",
    "\n",
    "ax_top.boxplot(model_delta_pr_ncal, zorder=2, positions=[1.0], whis=whisk_range, showfliers=False, widths=boxplot_width, flierprops=flierprops, medianprops=medianprops, boxprops=boxprops, whiskerprops=whiskerprops, capprops=capprops)\n",
    "ax_top.boxplot(model_delta_pr_ccal, zorder=2, positions=[2.0], whis=whisk_range, showfliers=False, widths=boxplot_width, flierprops=flierprops, medianprops=medianprops, boxprops=boxprops, whiskerprops=whiskerprops, capprops=capprops)\n",
    "ax_top.boxplot(model_delta_pr_scal, zorder=2, positions=[3.0], whis=whisk_range, showfliers=False, widths=boxplot_width, flierprops=flierprops, medianprops=medianprops, boxprops=boxprops, whiskerprops=whiskerprops, capprops=capprops)\n",
    "\n",
    "ax_top.text(s='Original\\nCMIP5 models', x=2.0, y=2.35, fontsize=fontsize, ha='center', va='bottom', color='firebrick')\n",
    "\n",
    "ax_top.text(s='(a)',x=0.0,y=1.03,ha='left',va='bottom',transform=ax_top.transAxes,fontsize=fontsize)\n",
    "\n",
    "flierprops = dict(marker='.', markeredgecolor='0.1', markerfacecolor='0.1')\n",
    "medianprops = dict(linewidth=2, color='firebrick')\n",
    "boxprops = dict(linewidth=2, color='0.1')\n",
    "whiskerprops = dict(linewidth=2, color='0.1')\n",
    "capprops = dict(linewidth=2, color='0.1')\n",
    "\n",
    "ax_top.boxplot(subensembles_delta_pr_ncal, zorder=2, positions=[5.0], whis=whisk_range, showfliers=False, widths=boxplot_width, flierprops=flierprops, medianprops=medianprops, boxprops=boxprops, whiskerprops=whiskerprops, capprops=capprops)\n",
    "ax_top.boxplot(subensembles_delta_pr_ccal, zorder=2, positions=[6.0], whis=whisk_range, showfliers=False, widths=boxplot_width, flierprops=flierprops, medianprops=medianprops, boxprops=boxprops, whiskerprops=whiskerprops, capprops=capprops)\n",
    "ax_top.boxplot(subensembles_delta_pr_scal, zorder=2, positions=[7.0], whis=whisk_range, showfliers=False, widths=boxplot_width, flierprops=flierprops, medianprops=medianprops, boxprops=boxprops, whiskerprops=whiskerprops, capprops=capprops)\n",
    "\n",
    "ax_top.text(s='All subensembles\\n('+str(N_ens)+')', x=6.0, y=2.35, fontsize=fontsize, ha='center', va='bottom', color='firebrick')\n",
    "\n",
    "flierprops = dict(marker='+', s=1e-5, markeredgecolor='0.1', markerfacecolor='0.1')\n",
    "medianprops = dict(linewidth=2, color='firebrick')\n",
    "boxprops = dict(linewidth=2, color='0.1')\n",
    "whiskerprops = dict(linewidth=2, color='0.1')\n",
    "capprops = dict(linewidth=2, color='0.1')\n",
    "\n",
    "ax_top.boxplot(optimal_subensembles_delta_pr_ncal, zorder=2, positions=[9.0], whis=whisk_range, showfliers=False, widths=boxplot_width, flierprops=flierprops, medianprops=medianprops, boxprops=boxprops, whiskerprops=whiskerprops, capprops=capprops)\n",
    "ax_top.boxplot(optimal_subensembles_delta_pr_ccal, zorder=2, positions=[10.0], whis=whisk_range, showfliers=False, widths=boxplot_width, flierprops=flierprops, medianprops=medianprops, boxprops=boxprops, whiskerprops=whiskerprops, capprops=capprops)\n",
    "ax_top.boxplot(optimal_subensembles_delta_pr_scal, zorder=2, positions=[11.0], whis=whisk_range, showfliers=False, widths=boxplot_width, flierprops=flierprops, medianprops=medianprops, boxprops=boxprops, whiskerprops=whiskerprops, capprops=capprops)\n",
    "\n",
    "# circle the relevant one\n",
    "ax_top.scatter(10.0, 0.5*(numpy.percentile(optimal_subensembles_delta_pr_ccal,10)+numpy.percentile(optimal_subensembles_delta_pr_ccal,90)), marker='o', edgecolor='0.25', facecolor='None', s=1250)\n",
    "\n",
    "# calculate percent change in range\n",
    "cmip5_hi_val = numpy.percentile(model_delta_pr_ncal, hi_perc)\n",
    "cmip5_lo_val = numpy.percentile(model_delta_pr_ncal, lo_perc)\n",
    "hi_val = numpy.percentile(subensembles_delta_pr_ncal, hi_perc)\n",
    "lo_val = numpy.percentile(subensembles_delta_pr_ncal, lo_perc)\n",
    "ncal_fraction_all = (hi_val-lo_val)/(cmip5_hi_val-cmip5_lo_val) * 100.\n",
    "\n",
    "cmip5_hi_val = numpy.percentile(model_delta_pr_ccal, hi_perc)\n",
    "cmip5_lo_val = numpy.percentile(model_delta_pr_ccal, lo_perc)\n",
    "hi_val = numpy.percentile(subensembles_delta_pr_ccal, hi_perc)\n",
    "lo_val = numpy.percentile(subensembles_delta_pr_ccal, lo_perc)\n",
    "ccal_fraction_all = (hi_val-lo_val)/(cmip5_hi_val-cmip5_lo_val) * 100.\n",
    "\n",
    "cmip5_hi_val = numpy.percentile(model_delta_pr_scal, hi_perc)\n",
    "cmip5_lo_val = numpy.percentile(model_delta_pr_scal, lo_perc)\n",
    "hi_val = numpy.percentile(subensembles_delta_pr_scal, hi_perc)\n",
    "lo_val = numpy.percentile(subensembles_delta_pr_scal, lo_perc)\n",
    "scal_fraction_all = (hi_val-lo_val)/(cmip5_hi_val-cmip5_lo_val) * 100.\n",
    "\n",
    "cmip5_hi_val = numpy.percentile(model_delta_pr_ncal, hi_perc)\n",
    "cmip5_lo_val = numpy.percentile(model_delta_pr_ncal, lo_perc)\n",
    "hi_val = numpy.percentile(optimal_subensembles_delta_pr_ncal, hi_perc)\n",
    "lo_val = numpy.percentile(optimal_subensembles_delta_pr_ncal, lo_perc)\n",
    "ncal_fraction_po = (hi_val-lo_val)/(cmip5_hi_val-cmip5_lo_val) * 100.\n",
    "\n",
    "cmip5_hi_val = numpy.percentile(model_delta_pr_ccal, hi_perc)\n",
    "cmip5_lo_val = numpy.percentile(model_delta_pr_ccal, lo_perc)\n",
    "hi_val = numpy.percentile(optimal_subensembles_delta_pr_ccal, hi_perc)\n",
    "lo_val = numpy.percentile(optimal_subensembles_delta_pr_ccal, lo_perc)\n",
    "ccal_fraction_po = (hi_val-lo_val)/(cmip5_hi_val-cmip5_lo_val) * 100.\n",
    "\n",
    "cmip5_hi_val = numpy.percentile(model_delta_pr_scal, hi_perc)\n",
    "cmip5_lo_val = numpy.percentile(model_delta_pr_scal, lo_perc)\n",
    "hi_val = numpy.percentile(optimal_subensembles_delta_pr_scal, hi_perc)\n",
    "lo_val = numpy.percentile(optimal_subensembles_delta_pr_scal, lo_perc)\n",
    "scal_fraction_po = (hi_val-lo_val)/(cmip5_hi_val-cmip5_lo_val) * 100.\n",
    "\n",
    "ax_top.text(s='range\\n'+'{:.0f}'.format(ncal_fraction_all)+'%', x=5.0, y=-0.25, fontsize=fontsize, ha='center', va='top', color='firebrick')\n",
    "ax_top.text(s='range\\n'+'{:.0f}'.format(ccal_fraction_all)+'%', x=6.0, y=-0.25, fontsize=fontsize, ha='center', va='top', color='firebrick')\n",
    "ax_top.text(s='range\\n'+'{:.0f}'.format(scal_fraction_all)+'%', x=7.0, y=-0.25, fontsize=fontsize, ha='center', va='top', color='firebrick')\n",
    "\n",
    "ax_top.text(s='range\\n'+'{:.0f}'.format(ncal_fraction_po)+'%', x=9.0, y=-0.25, fontsize=fontsize, ha='center', va='top', color='firebrick')\n",
    "ax_top.text(s='range\\n'+'{:.0f}'.format(ccal_fraction_po)+'%', x=10.0, y=-0.25, fontsize=fontsize, ha='center', va='top', color='firebrick')\n",
    "ax_top.text(s='range\\n'+'{:.0f}'.format(scal_fraction_po)+'%', x=11.0, y=-0.25, fontsize=fontsize, ha='center', va='top', color='firebrick')\n",
    "\n",
    "ax_top.text(s='Pareto-optimal\\nsubensembles ('+str(len(optimal_subensembles))+')', x=10.0, y=2.35, fontsize=fontsize, ha='center', va='bottom', color='firebrick')\n",
    "\n",
    "ax_top.set_xlim(0,12)\n",
    "ax_top.set_ylim(-1,2.25)\n",
    "ax_top.tick_params(labelsize=fontsize)\n",
    "ax_top.set_ylabel('precip. change\\n(mm day$^{\\, -1}$)', fontsize=fontsize)\n",
    "ax_top.set_xticklabels(['nor.\\nCalif.', 'cent.\\nCalif.', 'sou.\\nCalif.']*3)\n",
    "ax_top.set_xticks([1,2,3,5,6,7,9,10,11])\n",
    "ax_top.grid()\n",
    "ax_top.set_axisbelow(True)\n",
    "\n",
    "########## bottom 3 map plots\n",
    "ax_list = []\n",
    "contour_levels = numpy.hstack((numpy.arange(-0.5,0,0.05), numpy.arange(0,1.8,0.1)))\n",
    "\n",
    "for i in range(3):\n",
    "    \n",
    "    ax = mp.subplot2grid((5,6),(2,2*i),colspan=2,rowspan=2)\n",
    "\n",
    "    ax.text(s=figure_text[i],x=0.0,y=1.03,ha='left',va='bottom',transform=ax.transAxes,fontsize=fontsize)\n",
    "\n",
    "    map = basemap.Basemap(projection='cea',llcrnrlat=dict_pr['lats'].min(),\\\n",
    "                          urcrnrlat=dict_pr['lats'].max(),\\\n",
    "                          llcrnrlon=dict_pr['lons'].min(),\\\n",
    "                          urcrnrlon=dict_pr['lons'].max(),\\\n",
    "                          resolution='l')\n",
    "\n",
    "    map.drawcoastlines(linewidth=1, color='0') # you can specify white as 1.0, black as 0.0, and any gray as fraction\n",
    "    map.drawmapboundary(linewidth=1, color='0')\n",
    "    map.drawstates(linewidth=1, color='0')\n",
    "    map.drawcountries(linewidth=1, color='0')\n",
    "\n",
    "    lons,lats = numpy.meshgrid(dict_pr['lons'], dict_pr['lats'])\n",
    "    field = field_list[i]\n",
    "    xi,yi = map(lons, lats)\n",
    "    xi_smooth = scipy.ndimage.zoom(xi,10)\n",
    "    yi_smooth = scipy.ndimage.zoom(yi,10)\n",
    "    field_smooth = scipy.ndimage.zoom(field,10)\n",
    "\n",
    "    pr_map = map.contourf(xi_smooth, \\\n",
    "                          yi_smooth, \\\n",
    "                          field_smooth, \\\n",
    "                          levels=contour_levels, \\\n",
    "                          extend='max', \\\n",
    "                          norm=MidpointNormalize(midpoint=0), \\\n",
    "                          cmap='RdBu')\n",
    "    \n",
    "    pr_map_contourlines = map.contour(xi_smooth, \\\n",
    "                           yi_smooth, \\\n",
    "                           field_smooth, \\\n",
    "                           levels=[-1,-0.5,0,0.5,1.], \\\n",
    "                           linestyles=['-']*2+['--']+['-']*2, \\\n",
    "                           linewidths=[1]*2+[2]+[1]*2, \\\n",
    "                           colors=['0.25']*5)\n",
    "\n",
    "    for c in pr_map.collections:\n",
    "        c.set_edgecolor(\"face\")\n",
    "    \n",
    "    if i==1:\n",
    "    #if i==0:\n",
    "        for gp in range(3):\n",
    "            lat_val = ncal_latlon[gp,1]\n",
    "            lon_val = ncal_latlon[gp,0]\n",
    "            x1,y1 = map(lon_val-1.25, lat_val-1.25)\n",
    "            x2,y2 = map(lon_val-1.25, lat_val+1.25)\n",
    "            x3,y3 = map(lon_val+1.25, lat_val+1.25)\n",
    "            x4,y4 = map(lon_val+1.25, lat_val-1.25)\n",
    "            poly = matplotlib.patches.Polygon([(x1,y1),(x2,y2),(x3,y3),(x4,y4)],\\\n",
    "                                              facecolor='None', edgecolor='0.5',\\\n",
    "                                              linewidth=2,linestyle='-',zorder=2)\n",
    "            ax.add_patch(poly)   \n",
    "    #elif i==2:\n",
    "        for gp in range(3):\n",
    "            lat_val = scal_latlon[gp,1]\n",
    "            lon_val = scal_latlon[gp,0]\n",
    "            x1,y1 = map(lon_val-1.25, lat_val-1.25)\n",
    "            x2,y2 = map(lon_val-1.25, lat_val+1.25)\n",
    "            x3,y3 = map(lon_val+1.25, lat_val+1.25)\n",
    "            x4,y4 = map(lon_val+1.25, lat_val-1.25)\n",
    "            poly = matplotlib.patches.Polygon([(x1,y1),(x2,y2),(x3,y3),(x4,y4)],\\\n",
    "                                              facecolor='None', edgecolor='0.5',\\\n",
    "                                              linewidth=2,linestyle='-',zorder=2)\n",
    "            ax.add_patch(poly)\n",
    "        #elif i==1:\n",
    "        for gp in range(3):\n",
    "            lat_val = ccal_latlon[gp,1]\n",
    "            lon_val = ccal_latlon[gp,0]\n",
    "            x1,y1 = map(lon_val-1.25, lat_val-1.25)\n",
    "            x2,y2 = map(lon_val-1.25, lat_val+1.25)\n",
    "            x3,y3 = map(lon_val+1.25, lat_val+1.25)\n",
    "            x4,y4 = map(lon_val+1.25, lat_val-1.25)\n",
    "            poly = matplotlib.patches.Polygon([(x1,y1),(x2,y2),(x3,y3),(x4,y4)],\\\n",
    "                                              facecolor='None', edgecolor='firebrick',\\\n",
    "                                              linewidth=2,linestyle='-',zorder=2)\n",
    "            ax.add_patch(poly) \n",
    "\n",
    "fig.tight_layout(h_pad=2.5, w_pad=1)\n",
    "\n",
    "bbox = ax_top.get_position()\n",
    "cbar_axes = fig.add_axes([bbox.x0, 0.2, bbox.x1-bbox.x0, 0.03])#, transform=ax_top.transAxes)\n",
    "cbar = mp.colorbar(pr_map, orientation='horizontal', cax=cbar_axes)\n",
    "cbar.ax.tick_params(labelsize=fontsize)\n",
    "cbar.set_label('mm day$^{-1}$', fontsize=fontsize)\n",
    "cbar.set_ticks(numpy.arange(-0.5,1.51,0.25))\n",
    "cbar.solids.set_edgecolor(\"face\")\n",
    "\n",
    "fig.savefig('panel_maps_and_box_plots_'+DATESTRING+'_whiskers_hilo_LARGE_index_domains_alternate_k1to5.pdf', transparent=True, bbox_inches='tight')\n"
   ]
  }
 ],
 "metadata": {
  "anaconda-cloud": {},
  "kernelspec": {
   "display_name": "Python 3",
   "language": "python",
   "name": "python3"
  },
  "language_info": {
   "codemirror_mode": {
    "name": "ipython",
    "version": 3
   },
   "file_extension": ".py",
   "mimetype": "text/x-python",
   "name": "python",
   "nbconvert_exporter": "python",
   "pygments_lexer": "ipython3",
   "version": "3.6.5"
  }
 },
 "nbformat": 4,
 "nbformat_minor": 1
}
